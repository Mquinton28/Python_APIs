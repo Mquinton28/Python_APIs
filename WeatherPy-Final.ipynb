{
 "cells": [
  {
   "cell_type": "markdown",
   "metadata": {},
   "source": [
    "# WeatherPy\n",
    "----\n",
    "\n",
    "#### Note\n",
    "* Instructions have been included for each segment. You do not have to follow them exactly, but they are included to help you think through the steps."
   ]
  },
  {
   "cell_type": "code",
   "execution_count": 13,
   "metadata": {
    "scrolled": true
   },
   "outputs": [],
   "source": [
    "import pandas as pd\n",
    "import json\n",
    "import requests\n",
    "import matplotlib.pyplot as plt\n",
    "import numpy as np\n",
    "import config\n",
    "import os\n",
    "from time import sleep\n",
    "from config import weather_api_key\n",
    "from citipy import citipy\n",
    "from scipy.stats import linregress\n",
    "\n",
    "query_url = \"api.openweathermap.org/data/2.5/weather?q=\"\n",
    "units = \"metric\"\n",
    "query_url = f\"{url}appid={weather_api_key}&units={units}\"\n",
    "# query_url = f\"{url}appid={weather_api_key}&units={units}\""
   ]
  },
  {
   "cell_type": "markdown",
   "metadata": {},
   "source": [
    "## Generate Cities List"
   ]
  },
  {
   "cell_type": "code",
   "execution_count": 14,
   "metadata": {},
   "outputs": [
    {
     "data": {
      "text/plain": [
       "644"
      ]
     },
     "execution_count": 14,
     "metadata": {},
     "output_type": "execute_result"
    }
   ],
   "source": [
    "from scipy import integrate\n",
    "\n",
    "cities = []\n",
    "latitude_longitude = []\n",
    "#Latitude & Longitude ranges\n",
    "coords_lat_range = (-90, 90)\n",
    "coords_lng_range = (-180, 180)\n",
    "        \n",
    "coords_lat = np.random.uniform(low=-90, high=90, size=1500)\n",
    "coords_lng = np.random.uniform(low=-180, high=180, size=1500)\n",
    "latitude_longitude = zip(coords_lat, coords_lng)\n",
    "\n",
    "for latitude_longitude in latitude_longitude:\n",
    "#     time.sleep(5)\n",
    "    city = citipy.nearest_city(latitude_longitude[0],latitude_longitude[1]).city_name\n",
    "    \n",
    "    if city not in cities:\n",
    "        cities.append(city)\n",
    "        \n",
    "        \n",
    "len(cities)\n",
    "\n",
    "# To slice the list in for loop do for value in x[0:3]"
   ]
  },
  {
   "cell_type": "markdown",
   "metadata": {},
   "source": [
    "### Perform API Calls\n",
    "* Perform a weather check on each city using a series of successive API calls.\n",
    "* Include a print log of each city as it'sbeing processed (with the city number and city name).\n"
   ]
  },
  {
   "cell_type": "code",
   "execution_count": 85,
   "metadata": {},
   "outputs": [
    {
     "name": "stdout",
     "output_type": "stream",
     "text": [
      "1 naze\n",
      "2 linxia\n",
      "3 wanning\n",
      "4 bilibino\n",
      "5 belaya gora\n",
      "6 qaanaaq\n",
      "7 bredasdorp\n",
      "8 kaihua\n",
      "9 albany\n",
      "10 ushuaia\n",
      "11 butaritari\n",
      "12 praia da vitoria\n",
      "13 bluff\n",
      "14 hofn\n",
      "15 awjilah\n",
      "16 rengo\n",
      "17 nemuro\n",
      "18 sebeta\n",
      "19 egvekinot\n",
      "20 sentyabrskiy not found\n",
      "21 hue\n",
      "22 khatanga\n",
      "23 mimoso do sul\n",
      "24 rikitea\n",
      "25 busselton\n",
      "26 hobart\n",
      "27 palm springs\n",
      "28 tuktoyaktuk\n",
      "29 tsihombe not found\n",
      "30 arraial do cabo\n",
      "31 roald\n",
      "32 gogrial\n",
      "33 mar del plata\n",
      "34 buribay\n",
      "35 puerto ayora\n",
      "36 qaqortoq\n",
      "37 mataura\n",
      "38 les cayes\n",
      "39 san julian\n",
      "40 atuona\n",
      "41 danshui\n",
      "42 clarence town\n",
      "43 batagay-alyta\n",
      "44 cockburn town\n",
      "45 dunedin\n",
      "46 taolanaro not found\n",
      "47 illoqqortoormiut not found\n",
      "48 novyy urengoy\n",
      "49 port elizabeth\n",
      "50 kita\n",
      "51 hithadhoo\n",
      "52 punta arenas\n",
      "53 uvalde\n",
      "54 yellowknife\n",
      "55 carutapera\n",
      "56 saskylakh\n",
      "57 correntina\n",
      "58 atar\n",
      "59 avarua\n",
      "60 barrow\n",
      "61 saint-philippe\n",
      "62 sao joao da barra\n",
      "63 beyneu\n",
      "64 luderitz\n",
      "65 okha\n",
      "66 port alfred\n",
      "67 hermanus\n",
      "68 longyearbyen\n",
      "69 solwezi\n",
      "70 carnarvon\n",
      "71 saryshagan not found\n",
      "72 guiren\n",
      "73 kahului\n",
      "74 cidreira\n",
      "75 broken hill\n",
      "76 illela\n",
      "77 amuntai\n",
      "78 new norfolk\n",
      "79 biak\n",
      "80 acapulco\n",
      "81 bacuit not found\n",
      "82 lagoa\n",
      "83 thompson\n",
      "84 mogadishu\n",
      "85 talangnan\n",
      "86 kapaa\n",
      "87 laredo\n",
      "88 hauterive\n",
      "89 mizdah\n",
      "90 vaini\n",
      "91 grand gaube\n",
      "92 porto santo\n",
      "93 aasiaat\n",
      "94 garden city\n",
      "95 chimoio\n",
      "96 paita\n",
      "97 auki\n",
      "98 nikolskoye\n",
      "99 leningradskiy\n",
      "100 the valley\n",
      "101 marcona not found\n",
      "102 haines junction\n",
      "103 dikson\n",
      "104 yar-sale\n",
      "105 surt\n",
      "106 male\n",
      "107 slavyanka\n",
      "108 port hardy\n",
      "109 ilulissat\n",
      "110 srivardhan\n",
      "111 zhigansk\n",
      "112 beloha\n",
      "113 cabo san lucas\n",
      "114 esperance\n",
      "115 urdzhar not found\n",
      "116 nanortalik\n",
      "117 capreol\n",
      "118 moerai\n",
      "119 severo-kurilsk\n",
      "120 kolosovka\n",
      "121 sinnamary\n",
      "122 kruisfontein\n",
      "123 bambous virieux\n",
      "124 jacareacanga\n",
      "125 maine-soroa\n",
      "126 rize\n",
      "127 el tigre\n",
      "128 arkansas city\n",
      "129 jamestown\n",
      "130 ribeira grande\n",
      "131 atambua\n",
      "132 krasnoselkup\n",
      "133 chhindwara\n",
      "134 masty\n",
      "135 loknya\n",
      "136 betlitsa\n",
      "137 ponta do sol\n",
      "138 rio grande\n",
      "139 buraydah\n",
      "140 tiksi\n",
      "141 limulunga\n",
      "142 cape town\n",
      "143 jumla\n",
      "144 borogontsy\n",
      "145 hobyo\n",
      "146 kisangani\n",
      "147 avera\n",
      "148 sibolga\n",
      "149 myanaung\n",
      "150 coihaique\n",
      "151 savalou\n",
      "152 port hedland\n",
      "153 nouakchott\n",
      "154 natal\n",
      "155 san quintin\n",
      "156 chuy\n",
      "157 airai\n",
      "158 sangar\n",
      "159 makat\n",
      "160 narsaq\n",
      "161 alofi\n",
      "162 floro\n",
      "163 katsuura\n",
      "164 barentsburg not found\n",
      "165 kodiak\n",
      "166 saleaula not found\n",
      "167 nong chik\n",
      "168 fortuna\n",
      "169 ngorongoro\n",
      "170 yoichi\n",
      "171 hoquiam\n",
      "172 nizhniy odes\n",
      "173 kavaratti\n",
      "174 sawang daen din\n",
      "175 piacabucu\n",
      "176 lima\n",
      "177 talnakh\n",
      "178 mayo\n",
      "179 chhagalnaiya\n",
      "180 kavieng\n",
      "181 chokurdakh\n",
      "182 kamenka\n",
      "183 roma\n",
      "184 port macquarie\n",
      "185 bandarbeyla\n",
      "186 coahuayana\n",
      "187 bengkulu\n",
      "188 oranjemund\n",
      "189 codrington\n",
      "190 milingimbi not found\n",
      "191 santana do livramento\n",
      "192 pundaguitan\n",
      "193 cherskiy\n",
      "194 shingu\n",
      "195 zhangye\n",
      "196 lavrentiya\n",
      "197 agha jari not found\n",
      "198 kaa-khem\n",
      "199 norman wells\n",
      "200 nouadhibou\n",
      "201 hilo\n",
      "202 provideniya\n",
      "203 ostrovnoy\n",
      "204 lebu\n",
      "205 cajamarca\n",
      "206 san ramon\n",
      "207 kalach-na-donu\n",
      "208 attawapiskat not found\n",
      "209 cervo\n",
      "210 inuvik\n",
      "211 otukpo\n",
      "212 comodoro rivadavia\n",
      "213 port blair\n",
      "214 ayagoz\n",
      "215 kharitonovo\n",
      "216 jalu\n",
      "217 tromso\n",
      "218 manavalakurichi\n",
      "219 usinsk\n",
      "220 merauke\n",
      "221 vestmannaeyjar\n",
      "222 salalah\n",
      "223 necochea\n",
      "224 saint george\n",
      "225 guerrero negro\n",
      "226 manyana\n",
      "227 vao\n",
      "228 tuatapere\n",
      "229 pirapora\n",
      "230 taoudenni\n",
      "231 palabuhanratu not found\n",
      "232 kununurra\n",
      "233 pevek\n",
      "234 krasnogorsk\n",
      "235 san patricio\n",
      "236 buritis\n",
      "237 kamariotissa\n",
      "238 victoria\n",
      "239 brae\n",
      "240 labuhan\n",
      "241 galle\n",
      "242 ahipara\n",
      "243 boa vista\n",
      "244 pangai\n",
      "245 rudsar\n",
      "246 chizhou\n",
      "247 roccastrada\n",
      "248 mantua\n",
      "249 grand centre not found\n",
      "250 marsh harbour\n",
      "251 mahebourg\n",
      "252 yaan\n",
      "253 maragogi\n",
      "254 quata\n",
      "255 vostok\n",
      "256 geraldton\n",
      "257 tautira\n",
      "258 grand river south east not found\n",
      "259 faanui\n",
      "260 bajah\n",
      "261 saint anthony\n",
      "262 eldikan not found\n",
      "263 suntar\n",
      "264 los llanos de aridane\n",
      "265 marawi\n",
      "266 amderma not found\n",
      "267 santa maria\n",
      "268 cayenne\n",
      "269 shenjiamen\n",
      "270 boda\n",
      "271 adrar\n",
      "272 santa rosa\n",
      "273 nizhneyansk not found\n",
      "274 linjiang\n",
      "275 walvis bay\n",
      "276 tumannyy not found\n",
      "277 hatillo\n",
      "278 kalmunai\n",
      "279 east london\n",
      "280 matamoros\n",
      "281 amahai\n",
      "282 tasiilaq\n",
      "283 samalaeulu not found\n",
      "284 burriana\n",
      "285 sur\n",
      "286 babanusah not found\n",
      "287 kurduvadi\n",
      "288 malynivka\n",
      "289 leshukonskoye\n",
      "290 srednekolymsk\n",
      "291 lahaina\n",
      "292 neutraubling\n",
      "293 kautokeino\n",
      "294 castro\n",
      "295 fort frances\n",
      "296 edd\n",
      "297 belushya guba not found\n",
      "298 petropavlovsk-kamchatskiy\n",
      "299 goshogawara\n",
      "300 broome\n",
      "301 teguldet\n",
      "302 mys shmidta not found\n",
      "303 swan hill\n",
      "304 misratah\n",
      "305 sabinas hidalgo\n",
      "306 farrukhnagar\n",
      "307 byron bay\n",
      "308 xichang\n",
      "309 kurchum\n",
      "310 matara\n",
      "311 pak phanang\n",
      "312 westport\n",
      "313 vaitupu not found\n",
      "314 luena\n",
      "315 gobabis\n",
      "316 kasempa\n",
      "317 nibe\n",
      "318 camacha\n",
      "319 ishigaki\n",
      "320 seoul\n",
      "321 karaul not found\n",
      "322 lobito\n",
      "323 kloulklubed\n",
      "324 abu kamal\n",
      "325 brownsville\n",
      "326 kendari\n",
      "327 hami\n",
      "328 qui nhon\n",
      "329 brus laguna\n",
      "330 ossora\n",
      "331 guanica\n",
      "332 namatanai\n",
      "333 gulshat not found\n",
      "334 falealupo not found\n",
      "335 vangaindrano\n",
      "336 huilong\n",
      "337 humaita\n",
      "338 itarema\n",
      "339 upernavik\n",
      "340 kaitangata\n",
      "341 pokosnoye\n",
      "342 xifeng\n",
      "343 loa janan\n",
      "344 naryan-mar\n",
      "345 khash\n",
      "346 saldanha\n",
      "347 dalinghe not found\n",
      "348 beringovskiy\n",
      "349 pareora\n",
      "350 eyl\n",
      "351 katherine\n",
      "352 yuanping\n",
      "353 cleveland\n",
      "354 nuevo laredo\n",
      "355 bayanday\n",
      "356 marienburg\n",
      "357 barcelos\n",
      "358 torbay\n",
      "359 ixtapa\n",
      "360 miraflores\n",
      "361 sarangani\n",
      "362 ewa beach\n",
      "363 half moon bay\n",
      "364 pringsewu\n",
      "365 tezu\n",
      "366 marsa matruh\n",
      "367 aklavik\n",
      "368 kelso\n",
      "369 tahe\n",
      "370 goroka\n",
      "371 lompoc\n",
      "372 fairbanks\n",
      "373 batagay\n",
      "374 georgetown\n",
      "375 ardea\n",
      "376 gizo\n",
      "377 alice springs\n",
      "378 turukhansk\n",
      "379 popondetta\n",
      "380 eureka\n",
      "381 faya\n",
      "382 honiara\n",
      "383 sokoni\n",
      "384 bolo\n",
      "385 sistranda\n",
      "386 shitkino\n",
      "387 vilhena\n",
      "388 gangotri not found\n",
      "389 igarka\n",
      "390 wahiawa\n",
      "391 sydney\n",
      "392 paamiut\n",
      "393 guarapari\n",
      "394 kinshasa\n",
      "395 nanakuli\n",
      "396 hasaki\n",
      "397 mount isa\n",
      "398 tarko-sale\n",
      "399 predivinsk\n",
      "400 ipixuna\n",
      "401 coquimbo\n",
      "402 challapata\n",
      "403 tigil\n",
      "404 mudgee\n",
      "405 ekhabi\n",
      "406 klaksvik\n",
      "407 lekoni\n",
      "408 vanimo\n",
      "409 inderborskiy not found\n",
      "410 lyubytino\n",
      "411 saint-augustin\n",
      "412 shentala\n",
      "413 klyuchi\n",
      "414 mehamn\n",
      "415 dayapan\n",
      "416 kutum\n",
      "417 przhevalskoye\n",
      "418 qiyang\n",
      "419 namibe\n",
      "420 muravlenko\n",
      "421 omboue\n",
      "422 barra da estiva\n",
      "423 yurty\n",
      "424 iskateley\n",
      "425 lewiston\n",
      "426 sao filipe\n",
      "427 parintins\n",
      "428 wulanhaote not found\n",
      "429 fare\n",
      "430 asau\n",
      "431 sept-iles\n",
      "432 channel-port aux basques\n",
      "433 monte alegre\n",
      "434 ribeira brava\n",
      "435 isangel\n",
      "436 ust-kamchatsk not found\n",
      "437 mgachi\n",
      "438 megion\n",
      "439 lang son\n",
      "440 aanekoski\n",
      "441 bara\n",
      "442 toora-khem\n",
      "443 ouadda\n",
      "444 slyudyanka\n",
      "445 san lazaro\n",
      "446 paldiski\n",
      "447 vila\n",
      "448 sandy bay\n",
      "449 belleville\n",
      "450 bedele\n",
      "451 kaseda\n",
      "452 bibiani\n",
      "453 buala\n",
      "454 verkhnyaya inta\n",
      "455 fraga\n",
      "456 alta floresta\n",
      "457 derzhavinsk\n",
      "458 fort saint john not found\n",
      "459 sitka\n",
      "460 bethel\n",
      "461 baruun-urt\n",
      "462 maniitsoq\n",
      "463 zyryanka\n",
      "464 gat\n",
      "465 nishihara\n",
      "466 chimbote\n",
      "467 caldas novas\n",
      "468 roebourne\n",
      "469 limoeiro do norte\n",
      "470 clyde river\n",
      "471 simao\n",
      "472 jinchang\n",
      "473 nadym\n",
      "474 obihiro\n",
      "475 rawson\n",
      "476 yuli\n",
      "477 bada\n",
      "478 anta\n",
      "479 isla vista\n",
      "480 ballina\n",
      "481 vila velha\n",
      "482 omsukchan\n",
      "483 kamiiso\n",
      "484 pezinok\n",
      "485 chinsali\n",
      "486 malartic\n",
      "487 santa cruz\n",
      "488 inhambane\n",
      "489 montmagny\n",
      "490 moscow\n",
      "491 leon valley\n",
      "492 manoel urbano\n",
      "493 uturoa\n",
      "494 port lincoln\n",
      "495 searcy\n",
      "496 matay\n",
      "497 agadez\n",
      "498 pignon\n",
      "499 estelle\n",
      "500 constitucion\n",
      "501 bonavista\n",
      "502 acari\n",
      "503 bontang\n",
      "504 aswan\n",
      "505 tungkang not found\n",
      "506 sorland\n",
      "507 touros\n",
      "508 kashan\n",
      "509 hameenlinna\n",
      "510 mnogovershinnyy\n",
      "511 kuching\n",
      "512 hokitika\n",
      "513 aqtobe\n",
      "514 pag\n",
      "515 komsomolskiy\n",
      "516 oksfjord\n",
      "517 waipawa\n",
      "518 maniwaki\n",
      "519 vardo\n",
      "520 north bend\n",
      "521 meulaboh\n",
      "522 soyo\n",
      "523 luanda\n",
      "524 phalaborwa\n",
      "525 sergeyevka\n",
      "526 novorudnyy\n",
      "527 lorengau\n",
      "528 rutana\n",
      "529 pitimbu\n",
      "530 dianopolis not found\n",
      "531 pangnirtung\n",
      "532 vila franca do campo\n",
      "533 presidencia roque saenz pena\n",
      "534 pisco\n",
      "535 makakilo city\n",
      "536 ashqelon\n",
      "537 nong bua\n",
      "538 barinas\n",
      "539 la palma\n",
      "540 leh\n",
      "541 pimentel\n",
      "542 tura\n",
      "543 nuuk\n",
      "544 pucallpa\n",
      "545 mullaitivu not found\n",
      "546 kieta\n",
      "547 ulaanbaatar\n",
      "548 khandyga\n",
      "549 west plains\n",
      "550 tshela\n",
      "551 maloshuyka not found\n",
      "552 louis trichardt\n",
      "553 uddevalla\n",
      "554 nhulunbuy\n",
      "555 puerto carreno\n",
      "556 samusu not found\n",
      "557 grindavik\n",
      "558 cortez\n",
      "559 payo\n",
      "560 sakakah\n",
      "561 deputatskiy\n",
      "562 mazagao\n",
      "563 howard springs\n",
      "564 dalby\n",
      "565 aban\n",
      "566 bubaque\n",
      "567 flin flon\n",
      "568 gigmoto\n",
      "569 oroville\n",
      "570 chara\n",
      "571 eugene\n",
      "572 teguise\n",
      "573 kongolo\n",
      "574 changji\n",
      "575 hukuntsi\n",
      "576 yomitan not found\n",
      "577 kambarka\n",
      "578 hovd\n",
      "579 ghanzi\n",
      "580 enfield\n",
      "581 terra santa\n",
      "582 udachnyy\n",
      "583 russell\n",
      "584 socorro\n",
      "585 chapais\n",
      "586 stephenville\n",
      "587 wasilla\n",
      "588 silistea\n",
      "589 yakima\n",
      "590 imbituba\n"
     ]
    },
    {
     "name": "stdout",
     "output_type": "stream",
     "text": [
      "591 san marcos\n",
      "592 grand-lahou\n",
      "593 trzcianka\n",
      "594 jalingo\n",
      "595 nelson bay\n",
      "596 notse\n",
      "597 ereymentau\n",
      "598 raton\n",
      "599 galesong\n",
      "600 alakurtti\n",
      "601 ombessa\n",
      "602 baykit\n",
      "603 tikapur\n",
      "604 teahupoo\n",
      "605 banda aceh\n",
      "606 pierre\n",
      "607 santiago del estero\n",
      "608 prieska\n",
      "609 paracuru\n",
      "610 wanlaweyn\n",
      "611 amapa\n",
      "612 stokmarknes\n",
      "613 san cristobal\n",
      "614 peskovka\n",
      "615 mandurah\n",
      "616 chulym\n",
      "617 ubala\n",
      "618 cape elizabeth not found\n",
      "619 shahrud\n",
      "620 barawe not found\n",
      "621 kabare\n",
      "622 rapid valley\n",
      "623 ibra\n",
      "624 laela\n",
      "625 padang\n",
      "626 antalaha\n",
      "627 portland\n",
      "628 huarmey\n",
      "629 bac lieu\n",
      "630 mezen\n",
      "631 beyla\n",
      "632 berlevag\n",
      "633 petauke\n",
      "634 puerto escondido\n",
      "635 koboldo not found\n",
      "636 umm kaddadah\n",
      "637 puerto narino\n",
      "638 sturgis\n",
      "639 elek\n",
      "640 davidson\n",
      "641 sorong\n",
      "642 tamandare\n",
      "643 rungata not found\n",
      "644 lamar\n"
     ]
    }
   ],
   "source": [
    "# set up lists to hold response info\n",
    "city_data = []\n",
    "city_counter = 0\n",
    "\n",
    "#Loop through the list of cities and perform a request for data on each\n",
    "\n",
    "for city in cities:\n",
    "    response = requests.get(f'http://api.openweathermap.org/data/2.5/weather?q={city}&appid=9b6a3d1afbe1599dad9574bbca160792&units=metric').json()\n",
    "    city_counter = city_counter + 1\n",
    "    try:\n",
    "        A={'lat': response['coord']['lat'],\n",
    "              'long': response['coord']['lon'],\n",
    "              'temp': response['main']['temp'],\n",
    "               'cloudiness': response['weather'][0]['description'],\n",
    "               'cloudiness_perct': response['clouds']['all'],\n",
    "               'humidity': response['main']['humidity'],\n",
    "               'wind_speed': response['wind']['speed'],\n",
    "              'city': city,\n",
    "              'country': response['sys']['country']\n",
    "          }\n",
    "        city_data.append(A)\n",
    "        \n",
    "        print(f'{city_counter} {city}')\n",
    "        \n",
    "    except:\n",
    "        print(f'{city_counter} {city} not found')\n",
    "    \n"
   ]
  },
  {
   "cell_type": "markdown",
   "metadata": {},
   "source": [
    "### Convert Raw Data to DataFrame\n",
    "* Export the city data into a .csv.\n",
    "* Display the DataFrame"
   ]
  },
  {
   "cell_type": "code",
   "execution_count": 86,
   "metadata": {},
   "outputs": [
    {
     "data": {
      "text/html": [
       "<div>\n",
       "<style scoped>\n",
       "    .dataframe tbody tr th:only-of-type {\n",
       "        vertical-align: middle;\n",
       "    }\n",
       "\n",
       "    .dataframe tbody tr th {\n",
       "        vertical-align: top;\n",
       "    }\n",
       "\n",
       "    .dataframe thead th {\n",
       "        text-align: right;\n",
       "    }\n",
       "</style>\n",
       "<table border=\"1\" class=\"dataframe\">\n",
       "  <thead>\n",
       "    <tr style=\"text-align: right;\">\n",
       "      <th></th>\n",
       "      <th>lat</th>\n",
       "      <th>long</th>\n",
       "      <th>temp</th>\n",
       "      <th>cloudiness</th>\n",
       "      <th>cloudiness_perct</th>\n",
       "      <th>humidity</th>\n",
       "      <th>wind_speed</th>\n",
       "      <th>city</th>\n",
       "      <th>country</th>\n",
       "    </tr>\n",
       "  </thead>\n",
       "  <tbody>\n",
       "    <tr>\n",
       "      <th>0</th>\n",
       "      <td>28.37</td>\n",
       "      <td>129.48</td>\n",
       "      <td>26.00</td>\n",
       "      <td>broken clouds</td>\n",
       "      <td>75</td>\n",
       "      <td>83</td>\n",
       "      <td>7.70</td>\n",
       "      <td>naze</td>\n",
       "      <td>JP</td>\n",
       "    </tr>\n",
       "    <tr>\n",
       "      <th>1</th>\n",
       "      <td>35.60</td>\n",
       "      <td>103.21</td>\n",
       "      <td>4.84</td>\n",
       "      <td>clear sky</td>\n",
       "      <td>0</td>\n",
       "      <td>62</td>\n",
       "      <td>1.15</td>\n",
       "      <td>linxia</td>\n",
       "      <td>CN</td>\n",
       "    </tr>\n",
       "    <tr>\n",
       "      <th>2</th>\n",
       "      <td>18.80</td>\n",
       "      <td>110.40</td>\n",
       "      <td>24.47</td>\n",
       "      <td>overcast clouds</td>\n",
       "      <td>96</td>\n",
       "      <td>86</td>\n",
       "      <td>5.88</td>\n",
       "      <td>wanning</td>\n",
       "      <td>CN</td>\n",
       "    </tr>\n",
       "    <tr>\n",
       "      <th>3</th>\n",
       "      <td>68.05</td>\n",
       "      <td>166.44</td>\n",
       "      <td>-5.54</td>\n",
       "      <td>overcast clouds</td>\n",
       "      <td>100</td>\n",
       "      <td>94</td>\n",
       "      <td>3.03</td>\n",
       "      <td>bilibino</td>\n",
       "      <td>RU</td>\n",
       "    </tr>\n",
       "    <tr>\n",
       "      <th>4</th>\n",
       "      <td>68.53</td>\n",
       "      <td>146.42</td>\n",
       "      <td>-17.31</td>\n",
       "      <td>overcast clouds</td>\n",
       "      <td>100</td>\n",
       "      <td>92</td>\n",
       "      <td>4.10</td>\n",
       "      <td>belaya gora</td>\n",
       "      <td>RU</td>\n",
       "    </tr>\n",
       "  </tbody>\n",
       "</table>\n",
       "</div>"
      ],
      "text/plain": [
       "     lat    long   temp       cloudiness  cloudiness_perct  humidity  \\\n",
       "0  28.37  129.48  26.00    broken clouds                75        83   \n",
       "1  35.60  103.21   4.84        clear sky                 0        62   \n",
       "2  18.80  110.40  24.47  overcast clouds                96        86   \n",
       "3  68.05  166.44  -5.54  overcast clouds               100        94   \n",
       "4  68.53  146.42 -17.31  overcast clouds               100        92   \n",
       "\n",
       "   wind_speed         city country  \n",
       "0        7.70         naze      JP  \n",
       "1        1.15       linxia      CN  \n",
       "2        5.88      wanning      CN  \n",
       "3        3.03     bilibino      RU  \n",
       "4        4.10  belaya gora      RU  "
      ]
     },
     "execution_count": 86,
     "metadata": {},
     "output_type": "execute_result"
    }
   ],
   "source": [
    "weatherpy_data = pd.DataFrame(city_data)\n",
    "weatherpy_data.head()"
   ]
  },
  {
   "cell_type": "code",
   "execution_count": 87,
   "metadata": {},
   "outputs": [],
   "source": [
    "weatherpy_data.to_csv(\"WeatherPyData.csv\", encoding='utf-8', index=False)"
   ]
  },
  {
   "cell_type": "code",
   "execution_count": 88,
   "metadata": {},
   "outputs": [
    {
     "data": {
      "text/html": [
       "<div>\n",
       "<style scoped>\n",
       "    .dataframe tbody tr th:only-of-type {\n",
       "        vertical-align: middle;\n",
       "    }\n",
       "\n",
       "    .dataframe tbody tr th {\n",
       "        vertical-align: top;\n",
       "    }\n",
       "\n",
       "    .dataframe thead th {\n",
       "        text-align: right;\n",
       "    }\n",
       "</style>\n",
       "<table border=\"1\" class=\"dataframe\">\n",
       "  <thead>\n",
       "    <tr style=\"text-align: right;\">\n",
       "      <th></th>\n",
       "      <th>lat</th>\n",
       "      <th>long</th>\n",
       "      <th>temp</th>\n",
       "      <th>cloudiness</th>\n",
       "      <th>cloudiness_perct</th>\n",
       "      <th>humidity</th>\n",
       "      <th>wind_speed</th>\n",
       "      <th>city</th>\n",
       "      <th>country</th>\n",
       "    </tr>\n",
       "  </thead>\n",
       "  <tbody>\n",
       "    <tr>\n",
       "      <th>0</th>\n",
       "      <td>28.37</td>\n",
       "      <td>129.48</td>\n",
       "      <td>26.00</td>\n",
       "      <td>broken clouds</td>\n",
       "      <td>75</td>\n",
       "      <td>83</td>\n",
       "      <td>7.70</td>\n",
       "      <td>naze</td>\n",
       "      <td>JP</td>\n",
       "    </tr>\n",
       "    <tr>\n",
       "      <th>1</th>\n",
       "      <td>35.60</td>\n",
       "      <td>103.21</td>\n",
       "      <td>4.84</td>\n",
       "      <td>clear sky</td>\n",
       "      <td>0</td>\n",
       "      <td>62</td>\n",
       "      <td>1.15</td>\n",
       "      <td>linxia</td>\n",
       "      <td>CN</td>\n",
       "    </tr>\n",
       "    <tr>\n",
       "      <th>2</th>\n",
       "      <td>18.80</td>\n",
       "      <td>110.40</td>\n",
       "      <td>24.47</td>\n",
       "      <td>overcast clouds</td>\n",
       "      <td>96</td>\n",
       "      <td>86</td>\n",
       "      <td>5.88</td>\n",
       "      <td>wanning</td>\n",
       "      <td>CN</td>\n",
       "    </tr>\n",
       "    <tr>\n",
       "      <th>3</th>\n",
       "      <td>68.05</td>\n",
       "      <td>166.44</td>\n",
       "      <td>-5.54</td>\n",
       "      <td>overcast clouds</td>\n",
       "      <td>100</td>\n",
       "      <td>94</td>\n",
       "      <td>3.03</td>\n",
       "      <td>bilibino</td>\n",
       "      <td>RU</td>\n",
       "    </tr>\n",
       "    <tr>\n",
       "      <th>4</th>\n",
       "      <td>68.53</td>\n",
       "      <td>146.42</td>\n",
       "      <td>-17.31</td>\n",
       "      <td>overcast clouds</td>\n",
       "      <td>100</td>\n",
       "      <td>92</td>\n",
       "      <td>4.10</td>\n",
       "      <td>belaya gora</td>\n",
       "      <td>RU</td>\n",
       "    </tr>\n",
       "    <tr>\n",
       "      <th>...</th>\n",
       "      <td>...</td>\n",
       "      <td>...</td>\n",
       "      <td>...</td>\n",
       "      <td>...</td>\n",
       "      <td>...</td>\n",
       "      <td>...</td>\n",
       "      <td>...</td>\n",
       "      <td>...</td>\n",
       "      <td>...</td>\n",
       "    </tr>\n",
       "    <tr>\n",
       "      <th>595</th>\n",
       "      <td>46.53</td>\n",
       "      <td>21.25</td>\n",
       "      <td>7.03</td>\n",
       "      <td>broken clouds</td>\n",
       "      <td>75</td>\n",
       "      <td>93</td>\n",
       "      <td>1.50</td>\n",
       "      <td>elek</td>\n",
       "      <td>HU</td>\n",
       "    </tr>\n",
       "    <tr>\n",
       "      <th>596</th>\n",
       "      <td>36.15</td>\n",
       "      <td>-86.78</td>\n",
       "      <td>11.71</td>\n",
       "      <td>broken clouds</td>\n",
       "      <td>75</td>\n",
       "      <td>66</td>\n",
       "      <td>2.60</td>\n",
       "      <td>davidson</td>\n",
       "      <td>US</td>\n",
       "    </tr>\n",
       "    <tr>\n",
       "      <th>597</th>\n",
       "      <td>-0.88</td>\n",
       "      <td>131.25</td>\n",
       "      <td>29.20</td>\n",
       "      <td>light rain</td>\n",
       "      <td>100</td>\n",
       "      <td>71</td>\n",
       "      <td>3.30</td>\n",
       "      <td>sorong</td>\n",
       "      <td>ID</td>\n",
       "    </tr>\n",
       "    <tr>\n",
       "      <th>598</th>\n",
       "      <td>-8.76</td>\n",
       "      <td>-35.10</td>\n",
       "      <td>25.21</td>\n",
       "      <td>scattered clouds</td>\n",
       "      <td>50</td>\n",
       "      <td>86</td>\n",
       "      <td>3.27</td>\n",
       "      <td>tamandare</td>\n",
       "      <td>BR</td>\n",
       "    </tr>\n",
       "    <tr>\n",
       "      <th>599</th>\n",
       "      <td>33.67</td>\n",
       "      <td>-95.58</td>\n",
       "      <td>15.89</td>\n",
       "      <td>overcast clouds</td>\n",
       "      <td>90</td>\n",
       "      <td>88</td>\n",
       "      <td>2.60</td>\n",
       "      <td>lamar</td>\n",
       "      <td>US</td>\n",
       "    </tr>\n",
       "  </tbody>\n",
       "</table>\n",
       "<p>583 rows × 9 columns</p>\n",
       "</div>"
      ],
      "text/plain": [
       "       lat    long   temp        cloudiness  cloudiness_perct  humidity  \\\n",
       "0    28.37  129.48  26.00     broken clouds                75        83   \n",
       "1    35.60  103.21   4.84         clear sky                 0        62   \n",
       "2    18.80  110.40  24.47   overcast clouds                96        86   \n",
       "3    68.05  166.44  -5.54   overcast clouds               100        94   \n",
       "4    68.53  146.42 -17.31   overcast clouds               100        92   \n",
       "..     ...     ...    ...               ...               ...       ...   \n",
       "595  46.53   21.25   7.03     broken clouds                75        93   \n",
       "596  36.15  -86.78  11.71     broken clouds                75        66   \n",
       "597  -0.88  131.25  29.20        light rain               100        71   \n",
       "598  -8.76  -35.10  25.21  scattered clouds                50        86   \n",
       "599  33.67  -95.58  15.89   overcast clouds                90        88   \n",
       "\n",
       "     wind_speed         city country  \n",
       "0          7.70         naze      JP  \n",
       "1          1.15       linxia      CN  \n",
       "2          5.88      wanning      CN  \n",
       "3          3.03     bilibino      RU  \n",
       "4          4.10  belaya gora      RU  \n",
       "..          ...          ...     ...  \n",
       "595        1.50         elek      HU  \n",
       "596        2.60     davidson      US  \n",
       "597        3.30       sorong      ID  \n",
       "598        3.27    tamandare      BR  \n",
       "599        2.60        lamar      US  \n",
       "\n",
       "[583 rows x 9 columns]"
      ]
     },
     "execution_count": 88,
     "metadata": {},
     "output_type": "execute_result"
    }
   ],
   "source": [
    "humidity_100 = weatherpy_data.loc[weatherpy_data[\"humidity\"] <100]\n",
    "humidity_100"
   ]
  },
  {
   "cell_type": "markdown",
   "metadata": {},
   "source": [
    "- No cities with humidity over 100%"
   ]
  },
  {
   "cell_type": "markdown",
   "metadata": {},
   "source": [
    "## Plotting the Data\n",
    "* Use proper labeling of the plots using plot titles (including date of analysis) and axes labels.\n",
    "* Save the plotted figures as .pngs."
   ]
  },
  {
   "cell_type": "markdown",
   "metadata": {},
   "source": [
    "## Latitude vs. Temperature Plot"
   ]
  },
  {
   "cell_type": "code",
   "execution_count": 89,
   "metadata": {
    "scrolled": true
   },
   "outputs": [
    {
     "data": {
      "image/png": "[encoded data removed]",
      "text/plain": [
       "<Figure size 432x288 with 1 Axes>"
      ]
     },
     "metadata": {
      "needs_background": "light"
     },
     "output_type": "display_data"
    }
   ],
   "source": [
    "from datetime import datetime\n",
    "\n",
    "plt.scatter(weatherpy_data[\"lat\"], weatherpy_data[\"temp\"], color='b', alpha=0.3)\n",
    "plt.xlabel('Latitude')\n",
    "plt.ylabel('Temperature (C)')\n",
    "plt.title(f'Latitude vs Temperature ({datetime.now().date()})')\n",
    "plt.savefig(\"Temperature_Plot.png\")\n",
    "plt.show()"
   ]
  },
  {
   "cell_type": "markdown",
   "metadata": {},
   "source": [
    "- The latitude versus temperature plot analyzes the relationship between temperature and the cities latitude. So this plot is displaying that the further from the equater you become the more drastic of change in temperature. The lower the latitude the lower the temperature and vice versa."
   ]
  },
  {
   "cell_type": "markdown",
   "metadata": {},
   "source": [
    "## Latitude vs. Humidity Plot"
   ]
  },
  {
   "cell_type": "code",
   "execution_count": 90,
   "metadata": {},
   "outputs": [
    {
     "data": {
      "image/png": "[encoded data removed]",
      "text/plain": [
       "<Figure size 432x288 with 1 Axes>"
      ]
     },
     "metadata": {
      "needs_background": "light"
     },
     "output_type": "display_data"
    }
   ],
   "source": [
    "plt.scatter(weatherpy_data[\"lat\"], weatherpy_data[\"humidity\"], color='g', alpha=0.3)\n",
    "plt.xlabel('Latitude')\n",
    "plt.ylabel('Humidity')\n",
    "plt.title(f'Latitude vs Humidity ({datetime.now().date()})')\n",
    "plt.savefig(\"Humidity_Plot.png\")\n",
    "plt.show()"
   ]
  },
  {
   "cell_type": "markdown",
   "metadata": {},
   "source": [
    "- This plot is analyzing the relationship between humidity and latitude. From the scatter plot we can see that the highest humidity do not correlate to latitude. "
   ]
  },
  {
   "cell_type": "markdown",
   "metadata": {},
   "source": [
    "## Latitude vs. Cloudiness Plot"
   ]
  },
  {
   "cell_type": "code",
   "execution_count": 91,
   "metadata": {},
   "outputs": [
    {
     "data": {
      "image/png": "[encoded data removed]",
      "text/plain": [
       "<Figure size 432x288 with 1 Axes>"
      ]
     },
     "metadata": {
      "needs_background": "light"
     },
     "output_type": "display_data"
    }
   ],
   "source": [
    "plt.scatter(weatherpy_data[\"lat\"], weatherpy_data[\"cloudiness\"], color='r', alpha=0.3)\n",
    "plt.xlabel('Latitude')\n",
    "plt.ylabel('Cloudiness')\n",
    "plt.title(f'Latitude vs Cloudiness ({datetime.now().date()})')\n",
    "plt.savefig(\"Cloudiness_Plot.png\")\n",
    "plt.show()"
   ]
  },
  {
   "cell_type": "markdown",
   "metadata": {},
   "source": [
    "- This plot analyzes the relationship between cloudiness and latitude and again from the sample tested there seems to be no relationship between latitude and cloudiness. "
   ]
  },
  {
   "cell_type": "markdown",
   "metadata": {},
   "source": [
    "## Latitude vs. Wind Speed Plot"
   ]
  },
  {
   "cell_type": "code",
   "execution_count": 92,
   "metadata": {},
   "outputs": [
    {
     "data": {
      "image/png": "[encoded data removed]",
      "text/plain": [
       "<Figure size 432x288 with 1 Axes>"
      ]
     },
     "metadata": {
      "needs_background": "light"
     },
     "output_type": "display_data"
    }
   ],
   "source": [
    "plt.scatter(weatherpy_data[\"lat\"], weatherpy_data[\"wind_speed\"], color='pink', alpha=0.3)\n",
    "plt.xlabel('Latitude')\n",
    "plt.ylabel('Wind Speed')\n",
    "plt.title(f'Latitude vs Wind Speed ({datetime.now().date()})')\n",
    "plt.savefig(\"WindSpeed_Plot.png\")\n",
    "plt.show()"
   ]
  },
  {
   "cell_type": "markdown",
   "metadata": {},
   "source": [
    "- This plot looks at wind speed and latitude. It looks like the data is pretty spread out among various latitudes, the highest wind speeds seem to be further from the equator. "
   ]
  },
  {
   "cell_type": "markdown",
   "metadata": {},
   "source": [
    "## Linear Regression"
   ]
  },
  {
   "cell_type": "markdown",
   "metadata": {},
   "source": [
    "- The second requirement is to run linear regression on each relationship. This time, separate the plots into Northern Hemisphere (greater than or equal to 0 degrees latitude) and Southern Hemisphere (less than 0 degrees latitude):"
   ]
  },
  {
   "cell_type": "code",
   "execution_count": 93,
   "metadata": {},
   "outputs": [],
   "source": [
    "northern_hem = weatherpy_data.loc[weatherpy_data[\"lat\"] >0]\n",
    "\n",
    "southern_hem = weatherpy_data.loc[weatherpy_data[\"lat\"] <0]"
   ]
  },
  {
   "cell_type": "markdown",
   "metadata": {},
   "source": [
    "####  Northern Hemisphere - Max Temp vs. Latitude Linear Regression"
   ]
  },
  {
   "cell_type": "code",
   "execution_count": 94,
   "metadata": {},
   "outputs": [],
   "source": [
    "nh_slope, nh_int, nh_r, nh_p, nh_std_err = linregress(northern_hem['temp'], northern_hem['lat'])\n",
    "nh_fit = nh_slope * northern_hem['temp'] + nh_int"
   ]
  },
  {
   "cell_type": "code",
   "execution_count": 95,
   "metadata": {},
   "outputs": [
    {
     "data": {
      "text/plain": [
       "(-1.3193107626472467,\n",
       " 53.30133067485002,\n",
       " -0.869806305687425,\n",
       " 3.0160708456870912e-127,\n",
       " 0.03704996118157789)"
      ]
     },
     "execution_count": 95,
     "metadata": {},
     "output_type": "execute_result"
    }
   ],
   "source": [
    "nh_slope, nh_int, nh_r, nh_p, nh_std_err "
   ]
  },
  {
   "cell_type": "code",
   "execution_count": 96,
   "metadata": {},
   "outputs": [
    {
     "data": {
      "image/png": "[encoded data removed]",
      "text/plain": [
       "<Figure size 432x288 with 1 Axes>"
      ]
     },
     "metadata": {
      "needs_background": "light"
     },
     "output_type": "display_data"
    }
   ],
   "source": [
    "# Plot the linear model on top of scatter plot \n",
    "plt.scatter(northern_hem['temp'], northern_hem['lat'])\n",
    "plt.plot(northern_hem['temp'],nh_fit,\"--\")\n",
    "plt.xlabel('Max Temp')\n",
    "plt.ylabel('Northern Hemisphere Latitude')\n",
    "plt.savefig('Northern Hemisphere - Max Temp vs. Latitude Linear Regression.png')\n",
    "plt.show()"
   ]
  },
  {
   "cell_type": "markdown",
   "metadata": {},
   "source": [
    "- The linear regression model looking at latitude and temperature shows a moderate negative correlation between latitude and maximum temperature in the northern hemisphere because the r-value is -0.87."
   ]
  },
  {
   "cell_type": "markdown",
   "metadata": {},
   "source": [
    "####  Southern Hemisphere - Max Temp vs. Latitude Linear Regression"
   ]
  },
  {
   "cell_type": "code",
   "execution_count": 97,
   "metadata": {},
   "outputs": [],
   "source": [
    "sh_slope, sh_int, nh_r, nh_p, nh_std_err = linregress(southern_hem['temp'], southern_hem['lat'])\n",
    "sh_fit = sh_slope * southern_hem['temp'] + sh_int"
   ]
  },
  {
   "cell_type": "code",
   "execution_count": 98,
   "metadata": {},
   "outputs": [
    {
     "data": {
      "text/plain": [
       "(1.2987903650608403,\n",
       " -47.62720137107932,\n",
       " 0.606063349922788,\n",
       " 1.9484285457226882e-20,\n",
       " 0.12431875183745268)"
      ]
     },
     "execution_count": 98,
     "metadata": {},
     "output_type": "execute_result"
    }
   ],
   "source": [
    "sh_slope, sh_int, nh_r, nh_p, nh_std_err"
   ]
  },
  {
   "cell_type": "code",
   "execution_count": 99,
   "metadata": {},
   "outputs": [
    {
     "data": {
      "image/png": "[encoded data removed]",
      "text/plain": [
       "<Figure size 432x288 with 1 Axes>"
      ]
     },
     "metadata": {
      "needs_background": "light"
     },
     "output_type": "display_data"
    }
   ],
   "source": [
    "# Plot the linear model on top of scatter plot \n",
    "plt.scatter(southern_hem['temp'], southern_hem['lat'])\n",
    "plt.plot(southern_hem['temp'],sh_fit,\"--\")\n",
    "plt.xlabel('Max Temp')\n",
    "plt.ylabel('Southern Hemisphere Latitude')\n",
    "plt.savefig('Southern Hemisphere - Max Temp vs. Latitude Linear Regression.png')\n",
    "plt.show()"
   ]
  },
  {
   "cell_type": "markdown",
   "metadata": {},
   "source": [
    "- This linear regression model looking at latitude and temperature shows a moderate positve correlation between latitude and maximum temperature in the southern hemisphere because the r-value is 0.61."
   ]
  },
  {
   "cell_type": "markdown",
   "metadata": {},
   "source": [
    "####  Northern Hemisphere - Humidity (%) vs. Latitude Linear Regression"
   ]
  },
  {
   "cell_type": "code",
   "execution_count": 100,
   "metadata": {},
   "outputs": [],
   "source": [
    "nh_slope, nh_int, nh_r, nh_p, nh_std_err = linregress(northern_hem['humidity'], northern_hem['lat'])\n",
    "nh_fit = nh_slope * northern_hem['humidity'] + nh_int"
   ]
  },
  {
   "cell_type": "code",
   "execution_count": 101,
   "metadata": {},
   "outputs": [
    {
     "data": {
      "text/plain": [
       "(0.3098952147792844,\n",
       " 16.124026377453685,\n",
       " 0.29793082659676734,\n",
       " 7.529675874764616e-10,\n",
       " 0.04915696631772563)"
      ]
     },
     "execution_count": 101,
     "metadata": {},
     "output_type": "execute_result"
    }
   ],
   "source": [
    "nh_slope, nh_int, nh_r, nh_p, nh_std_err "
   ]
  },
  {
   "cell_type": "code",
   "execution_count": 102,
   "metadata": {},
   "outputs": [
    {
     "data": {
      "image/png": "[encoded data removed]",
      "text/plain": [
       "<Figure size 432x288 with 1 Axes>"
      ]
     },
     "metadata": {
      "needs_background": "light"
     },
     "output_type": "display_data"
    }
   ],
   "source": [
    "# Plot the linear model on top of scatter plot \n",
    "plt.scatter(northern_hem['humidity'], northern_hem['lat'])\n",
    "plt.plot(northern_hem['humidity'],nh_fit,\"--\")\n",
    "plt.xlabel('Humidity %')\n",
    "plt.ylabel('Northern Hemisphere Latitude')\n",
    "plt.savefig('Northern Hemisphere - Humidity vs. Latitude Linear Regression.png')\n",
    "plt.show()"
   ]
  },
  {
   "cell_type": "markdown",
   "metadata": {},
   "source": [
    "- This linear regression model looking at humidity and latitude shows a pretty weak correlation between latitude and humidity in the northern hemisphere because the r-value is 0.298."
   ]
  },
  {
   "cell_type": "markdown",
   "metadata": {},
   "source": [
    "####  Southern Hemisphere - Humidity (%) vs. Latitude Linear Regression"
   ]
  },
  {
   "cell_type": "code",
   "execution_count": 103,
   "metadata": {},
   "outputs": [],
   "source": [
    "sh_slope, sh_int, sh_r, sh_p, sh_std_err = linregress(southern_hem['humidity'], southern_hem['lat'])\n",
    "sh_fit = sh_slope * southern_hem['humidity'] + sh_int"
   ]
  },
  {
   "cell_type": "code",
   "execution_count": 104,
   "metadata": {},
   "outputs": [
    {
     "data": {
      "text/plain": [
       "(0.17148249544978214,\n",
       " -31.391663890574154,\n",
       " 0.25645141075262823,\n",
       " 0.0003549036076490809,\n",
       " 0.047137148167693016)"
      ]
     },
     "execution_count": 104,
     "metadata": {},
     "output_type": "execute_result"
    }
   ],
   "source": [
    "sh_slope, sh_int, sh_r, sh_p, sh_std_err"
   ]
  },
  {
   "cell_type": "code",
   "execution_count": 105,
   "metadata": {},
   "outputs": [
    {
     "data": {
      "image/png": "[encoded data removed]",
      "text/plain": [
       "<Figure size 432x288 with 1 Axes>"
      ]
     },
     "metadata": {
      "needs_background": "light"
     },
     "output_type": "display_data"
    }
   ],
   "source": [
    "# Plot the linear model on top of scatter plot \n",
    "plt.scatter(southern_hem['humidity'], southern_hem['lat'])\n",
    "plt.plot(southern_hem['humidity'],sh_fit,\"--\")\n",
    "plt.xlabel('Humidity %')\n",
    "plt.ylabel('Southern Hemisphere Latitude')\n",
    "plt.savefig('Southern Hemisphere - Humidity vs. Latitude Linear Regression.png')\n",
    "plt.show()"
   ]
  },
  {
   "cell_type": "markdown",
   "metadata": {},
   "source": [
    "- This linear regression model looking at humidity and latitude shows a pretty weak correlation between latitude and humidity in the southern hemisphere as well with an r-value is 0.26."
   ]
  },
  {
   "cell_type": "markdown",
   "metadata": {},
   "source": [
    "####  Northern Hemisphere - Cloudiness (%) vs. Latitude Linear Regression"
   ]
  },
  {
   "cell_type": "code",
   "execution_count": 106,
   "metadata": {},
   "outputs": [],
   "source": [
    "nh_slope, nh_str, nh_r, nh_p, nh_std_err = linregress(northern_hem['cloudiness_perct'], northern_hem['lat'])\n",
    "nh_fit = nh_slope * northern_hem['cloudiness_perct'] + nh_str"
   ]
  },
  {
   "cell_type": "code",
   "execution_count": 107,
   "metadata": {},
   "outputs": [
    {
     "data": {
      "text/plain": [
       "(0.10945686537351818,\n",
       " 33.43479836610376,\n",
       " 0.22280798662849033,\n",
       " 5.2353262136973425e-06,\n",
       " 0.023709667781600285)"
      ]
     },
     "execution_count": 107,
     "metadata": {},
     "output_type": "execute_result"
    }
   ],
   "source": [
    "nh_slope, nh_str, nh_r, nh_p, nh_std_err"
   ]
  },
  {
   "cell_type": "code",
   "execution_count": 112,
   "metadata": {},
   "outputs": [
    {
     "data": {
      "image/png": "[encoded data removed]",
      "text/plain": [
       "<Figure size 432x288 with 1 Axes>"
      ]
     },
     "metadata": {
      "needs_background": "light"
     },
     "output_type": "display_data"
    }
   ],
   "source": [
    "# Plot the linear model on top of scatter plot \n",
    "plt.scatter(northern_hem['cloudiness_perct'], northern_hem['lat'])\n",
    "plt.plot(northern_hem['cloudiness_perct'],nh_fit,\"--\")\n",
    "plt.xlabel('Cloudiness %')\n",
    "plt.ylabel('Northern Hemisphere Latitude')\n",
    "plt.savefig('Northern Hemisphere - Cloudiness % vs. Latitude Linear Regression.png')\n",
    "plt.show()"
   ]
  },
  {
   "cell_type": "markdown",
   "metadata": {},
   "source": [
    "- This linear regression model looking at cloudiness percentage and latitude shows a very weak or no correlation between latitude and humidity in the northern hemisphere as well with an r-value is 0.22."
   ]
  },
  {
   "cell_type": "markdown",
   "metadata": {},
   "source": [
    "####  Southern Hemisphere - Cloudiness (%) vs. Latitude Linear Regression"
   ]
  },
  {
   "cell_type": "code",
   "execution_count": 113,
   "metadata": {},
   "outputs": [],
   "source": [
    "sh_slope, sh_int, sh_r, sh_p, sh_std_err = linregress(southern_hem['cloudiness_perct'], southern_hem['lat'])\n",
    "sh_fit = sh_slope * southern_hem['cloudiness_perct'] + sh_int"
   ]
  },
  {
   "cell_type": "code",
   "execution_count": 114,
   "metadata": {},
   "outputs": [
    {
     "data": {
      "text/plain": [
       "(0.09425285854243759,\n",
       " -24.32020912667675,\n",
       " 0.27463991412706595,\n",
       " 0.00012573336771430873,\n",
       " 0.024067031993704406)"
      ]
     },
     "execution_count": 114,
     "metadata": {},
     "output_type": "execute_result"
    }
   ],
   "source": [
    "sh_slope, sh_int, sh_r, sh_p, sh_std_err"
   ]
  },
  {
   "cell_type": "code",
   "execution_count": 116,
   "metadata": {},
   "outputs": [
    {
     "data": {
      "image/png": "[encoded data removed]",
      "text/plain": [
       "<Figure size 432x288 with 1 Axes>"
      ]
     },
     "metadata": {
      "needs_background": "light"
     },
     "output_type": "display_data"
    }
   ],
   "source": [
    "# Plot the linear model on top of scatter plot \n",
    "plt.scatter(southern_hem['cloudiness_perct'], southern_hem['lat'])\n",
    "plt.plot(southern_hem['cloudiness_perct'],sh_fit,\"--\")\n",
    "plt.xlabel('Cloudiness %')\n",
    "plt.ylabel('Southern Hemisphere Hemisphere Latitude')\n",
    "plt.savefig('Southern Hemisphere - Cloudiness % vs. Latitude Linear Regression.png')\n",
    "plt.show()"
   ]
  },
  {
   "cell_type": "markdown",
   "metadata": {},
   "source": [
    "- This linear regression model looking at cloudiness percentage and latitude shows a very weak or no correlation between latitude and humidity in the southern hemisphere as well with an r-value is 0.27."
   ]
  },
  {
   "cell_type": "markdown",
   "metadata": {},
   "source": [
    "####  Northern Hemisphere - Wind Speed (mph) vs. Latitude Linear Regression"
   ]
  },
  {
   "cell_type": "code",
   "execution_count": 117,
   "metadata": {},
   "outputs": [],
   "source": [
    "nh_slope, nh_str, nh_r, nh_p, nh_std_err = linregress(northern_hem['wind_speed'], northern_hem['lat'])\n",
    "nh_fit = nh_slope * northern_hem['wind_speed'] + nh_str"
   ]
  },
  {
   "cell_type": "code",
   "execution_count": 118,
   "metadata": {},
   "outputs": [
    {
     "data": {
      "text/plain": [
       "(2.7600446723736902,\n",
       " 28.703162780370313,\n",
       " 0.40006522391894167,\n",
       " 3.4378835089114945e-17,\n",
       " 0.3130266987151746)"
      ]
     },
     "execution_count": 118,
     "metadata": {},
     "output_type": "execute_result"
    }
   ],
   "source": [
    "nh_slope, nh_str, nh_r, nh_p, nh_std_err"
   ]
  },
  {
   "cell_type": "code",
   "execution_count": 119,
   "metadata": {},
   "outputs": [
    {
     "data": {
      "image/png": "[encoded data removed]",
      "text/plain": [
       "<Figure size 432x288 with 1 Axes>"
      ]
     },
     "metadata": {
      "needs_background": "light"
     },
     "output_type": "display_data"
    }
   ],
   "source": [
    "# Plot the linear model on top of scatter plot \n",
    "plt.scatter(northern_hem['wind_speed'], northern_hem['lat'])\n",
    "plt.plot(northern_hem['wind_speed'],nh_fit,\"--\")\n",
    "plt.xlabel('Wind Speeed')\n",
    "plt.ylabel('Northern Hemisphere Latitude')\n",
    "plt.savefig('Northern Hemisphere - Wind Speed vs. Latitude Linear Regression.png')\n",
    "plt.show()"
   ]
  },
  {
   "cell_type": "markdown",
   "metadata": {},
   "source": [
    "- This linear regression model looking at wind speed and latitude shows a very weak correlation between latitude and windspeed in the northern hemisphere as well with an r-value is 0.4."
   ]
  },
  {
   "cell_type": "markdown",
   "metadata": {},
   "source": [
    "####  Southern Hemisphere - Wind Speed (mph) vs. Latitude Linear Regression"
   ]
  },
  {
   "cell_type": "code",
   "execution_count": 120,
   "metadata": {},
   "outputs": [],
   "source": [
    "sh_slope, sh_str, sh_r, sh_p, sh_std_err = linregress(southern_hem['wind_speed'], southern_hem['lat'])\n",
    "sh_fit = sh_slope * southern_hem['wind_speed'] + sh_str"
   ]
  },
  {
   "cell_type": "code",
   "execution_count": 121,
   "metadata": {},
   "outputs": [
    {
     "data": {
      "text/plain": [
       "(-2.2248002058979,\n",
       " -11.505250391288948,\n",
       " -0.3914250528503217,\n",
       " 2.3471888685053077e-08,\n",
       " 0.3814612406032247)"
      ]
     },
     "execution_count": 121,
     "metadata": {},
     "output_type": "execute_result"
    }
   ],
   "source": [
    "sh_slope, sh_str, sh_r, sh_p, sh_std_err"
   ]
  },
  {
   "cell_type": "code",
   "execution_count": 122,
   "metadata": {},
   "outputs": [
    {
     "data": {
      "image/png": "[encoded data removed]",
      "text/plain": [
       "<Figure size 432x288 with 1 Axes>"
      ]
     },
     "metadata": {
      "needs_background": "light"
     },
     "output_type": "display_data"
    }
   ],
   "source": [
    "# Plot the linear model on top of scatter plot \n",
    "plt.scatter(southern_hem['wind_speed'], southern_hem['lat'])\n",
    "plt.plot(southern_hem['wind_speed'],sh_fit,\"--\")\n",
    "plt.xlabel('Wind Speeed')\n",
    "plt.ylabel('Southern Hemisphere Latitude')\n",
    "plt.savefig('Southern Hemisphere - Wind Speed vs. Latitude Linear Regression.png')\n",
    "plt.show()"
   ]
  },
  {
   "cell_type": "markdown",
   "metadata": {},
   "source": [
    "- This linear regression model looking at wind speed and latitude shows a very weak negative correlation between latitude and windspeed in the southern hemisphere as well with an r-value is -0.39."
   ]
  },
  {
   "cell_type": "code",
   "execution_count": null,
   "metadata": {},
   "outputs": [],
   "source": []
  }
 ],
 "metadata": {
  "anaconda-cloud": {},
  "kernel_info": {
   "name": "python3"
  },
  "kernelspec": {
   "display_name": "PythonData",
   "language": "python",
   "name": "pythondata"
  },
  "language_info": {
   "codemirror_mode": {
    "name": "ipython",
    "version": 3
   },
   "file_extension": ".py",
   "mimetype": "text/x-python",
   "name": "python",
   "nbconvert_exporter": "python",
   "pygments_lexer": "ipython3",
   "version": "3.8.3"
  },
  "latex_envs": {
   "LaTeX_envs_menu_present": true,
   "autoclose": false,
   "autocomplete": true,
   "bibliofile": "biblio.bib",
   "cite_by": "apalike",
   "current_citInitial": 1,
   "eqLabelWithNumbers": true,
   "eqNumInitial": 1,
   "hotkeys": {
    "equation": "Ctrl-E",
    "itemize": "Ctrl-I"
   },
   "labels_anchors": false,
   "latex_user_defs": false,
   "report_style_numbering": false,
   "user_envs_cfg": false
  },
  "nteract": {
   "version": "0.12.3"
  }
 },
 "nbformat": 4,
 "nbformat_minor": 2
}
